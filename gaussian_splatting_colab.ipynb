{
  "cells": [
    {
      "cell_type": "code",
      "execution_count": 3,
      "metadata": {
        "id": "VjYy0F2gZIPR",
        "colab": {
          "base_uri": "https://localhost:8080/"
        },
        "outputId": "e6207267-7938-4578-d21e-1eb34b784f94"
      },
      "outputs": [
        {
          "output_type": "stream",
          "name": "stdout",
          "text": [
            "/content\n",
            "fatal: destination path 'gaussian-splatting' already exists and is not an empty directory.\n",
            "/content/gaussian-splatting\n",
            "  Preparing metadata (setup.py) ... \u001b[?25l\u001b[?25hdone\n",
            "  Building wheel for diff_gaussian_rasterization (setup.py) ... \u001b[?25l\u001b[?25hdone\n",
            "\u001b[31mERROR: Invalid requirement: '/content/gaussian-splatting/submodules/simple-knn': Expected package name at the start of dependency specifier\n",
            "    /content/gaussian-splatting/submodules/simple-knn\n",
            "    ^\n",
            "Hint: It looks like a path. File '/content/gaussian-splatting/submodules/simple-knn' does not exist.\u001b[0m\u001b[31m\n",
            "\u001b[0m--2025-02-04 05:06:28--  https://huggingface.co/camenduru/gaussian-splatting/resolve/main/tandt_db.zip\n",
            "Resolving huggingface.co (huggingface.co)... 18.164.174.55, 18.164.174.118, 18.164.174.23, ...\n",
            "Connecting to huggingface.co (huggingface.co)|18.164.174.55|:443... connected.\n",
            "HTTP request sent, awaiting response... 302 Found\n",
            "Location: https://cdn-lfs.hf.co/repos/69/11/6911555bcb5edae447d514169831329398b45a3ed9ae3b00817878bc501559a1/816e62f22a161abbfe841d2a6b10cdf036e297c9fa289b3bfeee9c6ec526d7e1?response-content-disposition=inline%3B+filename*%3DUTF-8%27%27tandt_db.zip%3B+filename%3D%22tandt_db.zip%22%3B&response-content-type=application%2Fzip&Expires=1738649188&Policy=eyJTdGF0ZW1lbnQiOlt7IkNvbmRpdGlvbiI6eyJEYXRlTGVzc1RoYW4iOnsiQVdTOkVwb2NoVGltZSI6MTczODY0OTE4OH19LCJSZXNvdXJjZSI6Imh0dHBzOi8vY2RuLWxmcy5oZi5jby9yZXBvcy82OS8xMS82OTExNTU1YmNiNWVkYWU0NDdkNTE0MTY5ODMxMzI5Mzk4YjQ1YTNlZDlhZTNiMDA4MTc4NzhiYzUwMTU1OWExLzgxNmU2MmYyMmExNjFhYmJmZTg0MWQyYTZiMTBjZGYwMzZlMjk3YzlmYTI4OWIzYmZlZWU5YzZlYzUyNmQ3ZTE%7EcmVzcG9uc2UtY29udGVudC1kaXNwb3NpdGlvbj0qJnJlc3BvbnNlLWNvbnRlbnQtdHlwZT0qIn1dfQ__&Signature=nl-V4lUTvuiwmFoP52S0wM42M2Z0FX-vZD5DpE1fzEeazezHGi%7EgLsaRmlh5m3-BmutnXYBdeY407u46itDBd5AEuTACQZVyZpVQLlDejJq7Td2y0UQefJ5e15tQt8eJ5c3k0qUHP7JMyzk6u2Jrsl8UuJbBCR8EvwuKZPXlsxiQ7rN9ujMbnJuIdyMJZoQ%7EF5xnlX9y8y8FBtCPOKnf0LhLw0SbE0iPBCIBBi53J4ylIpcbDZq25xo5ijzyyIunYvNKX4oQ8-KVDgRfa%7E6Qz%7EocPsRTlK1C9L0Bd9-9lYASGRyS0TMOjHQe0s%7E2tRNCOrOIyrtsp7WPnUedQ4qEaQ__&Key-Pair-Id=K3RPWS32NSSJCE [following]\n",
            "--2025-02-04 05:06:28--  https://cdn-lfs.hf.co/repos/69/11/6911555bcb5edae447d514169831329398b45a3ed9ae3b00817878bc501559a1/816e62f22a161abbfe841d2a6b10cdf036e297c9fa289b3bfeee9c6ec526d7e1?response-content-disposition=inline%3B+filename*%3DUTF-8%27%27tandt_db.zip%3B+filename%3D%22tandt_db.zip%22%3B&response-content-type=application%2Fzip&Expires=1738649188&Policy=eyJTdGF0ZW1lbnQiOlt7IkNvbmRpdGlvbiI6eyJEYXRlTGVzc1RoYW4iOnsiQVdTOkVwb2NoVGltZSI6MTczODY0OTE4OH19LCJSZXNvdXJjZSI6Imh0dHBzOi8vY2RuLWxmcy5oZi5jby9yZXBvcy82OS8xMS82OTExNTU1YmNiNWVkYWU0NDdkNTE0MTY5ODMxMzI5Mzk4YjQ1YTNlZDlhZTNiMDA4MTc4NzhiYzUwMTU1OWExLzgxNmU2MmYyMmExNjFhYmJmZTg0MWQyYTZiMTBjZGYwMzZlMjk3YzlmYTI4OWIzYmZlZWU5YzZlYzUyNmQ3ZTE%7EcmVzcG9uc2UtY29udGVudC1kaXNwb3NpdGlvbj0qJnJlc3BvbnNlLWNvbnRlbnQtdHlwZT0qIn1dfQ__&Signature=nl-V4lUTvuiwmFoP52S0wM42M2Z0FX-vZD5DpE1fzEeazezHGi%7EgLsaRmlh5m3-BmutnXYBdeY407u46itDBd5AEuTACQZVyZpVQLlDejJq7Td2y0UQefJ5e15tQt8eJ5c3k0qUHP7JMyzk6u2Jrsl8UuJbBCR8EvwuKZPXlsxiQ7rN9ujMbnJuIdyMJZoQ%7EF5xnlX9y8y8FBtCPOKnf0LhLw0SbE0iPBCIBBi53J4ylIpcbDZq25xo5ijzyyIunYvNKX4oQ8-KVDgRfa%7E6Qz%7EocPsRTlK1C9L0Bd9-9lYASGRyS0TMOjHQe0s%7E2tRNCOrOIyrtsp7WPnUedQ4qEaQ__&Key-Pair-Id=K3RPWS32NSSJCE\n",
            "Resolving cdn-lfs.hf.co (cdn-lfs.hf.co)... 3.169.231.4, 3.169.231.115, 3.169.231.87, ...\n",
            "Connecting to cdn-lfs.hf.co (cdn-lfs.hf.co)|3.169.231.4|:443... connected.\n",
            "HTTP request sent, awaiting response... 200 OK\n",
            "Length: 682628995 (651M) [application/zip]\n",
            "Saving to: ‘tandt_db.zip.2’\n",
            "\n",
            "tandt_db.zip.2      100%[===================>] 651.00M   228MB/s    in 2.9s    \n",
            "\n",
            "2025-02-04 05:06:31 (228 MB/s) - ‘tandt_db.zip.2’ saved [682628995/682628995]\n",
            "\n",
            "Archive:  tandt_db.zip\n",
            "replace db/drjohnson/images/IMG_6292.jpg? [y]es, [n]o, [A]ll, [N]one, [r]ename: N\n",
            "Traceback (most recent call last):\n",
            "  File \"/content/gaussian-splatting/train.py\", line 16, in <module>\n",
            "    from gaussian_renderer import render, network_gui\n",
            "  File \"/content/gaussian-splatting/gaussian_renderer/__init__.py\", line 15, in <module>\n",
            "    from scene.gaussian_model import GaussianModel\n",
            "  File \"/content/gaussian-splatting/scene/__init__.py\", line 16, in <module>\n",
            "    from scene.dataset_readers import sceneLoadTypeCallbacks\n",
            "  File \"/content/gaussian-splatting/scene/dataset_readers.py\", line 24, in <module>\n",
            "    from scene.gaussian_model import BasicPointCloud\n",
            "  File \"/content/gaussian-splatting/scene/gaussian_model.py\", line 20, in <module>\n",
            "    from simple_knn._C import distCUDA2\n",
            "ModuleNotFoundError: No module named 'simple_knn'\n"
          ]
        }
      ],
      "source": [
        "%cd /content\n",
        "!git clone --recursive https://github.com/camenduru/gaussian-splatting\n",
        "!pip install -q plyfile\n",
        "\n",
        "%cd /content/gaussian-splatting\n",
        "!pip install -q /content/gaussian-splatting/submodules/diff-gaussian-rasterization\n",
        "!pip install -q /content/gaussian-splatting/submodules/simple-knn\n",
        "\n",
        "!wget https://huggingface.co/camenduru/gaussian-splatting/resolve/main/tandt_db.zip\n",
        "!unzip tandt_db.zip\n",
        "\n",
        "!python train.py -s /content/gaussian-splatting/tandt/train\n",
        "\n",
        "# !wget https://huggingface.co/camenduru/gaussian-splatting/resolve/main/GaussianViewTest.zip\n",
        "# !unzip GaussianViewTest.zip\n",
        "# !python render.py -m /content/gauNssian-splatting/GaussianViewTest/model\n",
        "# !ffmpeg -framerate 3 -i /content/gaussian-splatting/GaussianViewTest/model/train/ours_30000/renders/%05d.png -vf \"pad=ceil(iw/2)*2:ceil(ih/2)*2\" -c:v libx264 -r 3 -pix_fmt yuv420p /content/renders.mp4\n",
        "# !ffmpeg -framerate 3 -i /content/gaussian-splatting/GaussianViewTest/model/train/ours_30000/gt/%05d.png -vf \"pad=ceil(iw/2)*2:ceil(ih/2)*2\" -c:v libx264 -r 3 -pix_fmt yuv420p /content/gt.mp4 -y"
      ]
    }
  ],
  "metadata": {
    "accelerator": "GPU",
    "colab": {
      "gpuType": "T4",
      "provenance": []
    },
    "kernelspec": {
      "display_name": "Python 3",
      "name": "python3"
    },
    "language_info": {
      "name": "python"
    }
  },
  "nbformat": 4,
  "nbformat_minor": 0
}